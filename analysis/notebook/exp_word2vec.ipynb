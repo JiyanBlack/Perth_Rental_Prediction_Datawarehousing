{
 "cells": [
  {
   "cell_type": "code",
   "execution_count": 44,
   "metadata": {
    "collapsed": false
   },
   "outputs": [],
   "source": [
    "import word2vec \n",
    "from nltk.stem import WordNetLemmatizer\n",
    "from nltk.stem.porter import PorterStemmer\n",
    "import os\n",
    "import gensim\n",
    "porterstemmer = PorterStemmer()\n",
    "lemmmatizer = WordNetLemmatizer()\n",
    "\n",
    "lemma = word2vec.read_model('description_lemmatized.word2vec')\n",
    "porter = word2vec.read_model('description_porterStem.word2vec')\n",
    "nostem = word2vec.read_model('description_nostem.word2vec')\n"
   ]
  },
  {
   "cell_type": "code",
   "execution_count": 78,
   "metadata": {
    "collapsed": false
   },
   "outputs": [
    {
     "name": "stdout",
     "output_type": "stream",
     "text": [
      "Words relating to: pool\n",
      "lemmatized model:\n",
      "[('poolspa', 0.6704737544059753), ('seater', 0.6014737486839294), ('gazebo', 0.5395780801773071), ('boating', 0.47575485706329346), ('outdoor', 0.46682021021842957), ('bubbling', 0.4594886600971222), ('below', 0.45608922839164734), ('grassed', 0.45510581135749817), ('shimmering', 0.45023205876350403), ('sauna', 0.449268639087677), ('fishing', 0.4474426805973053), ('bali', 0.44570207595825195), ('poolside', 0.4433581829071045), ('hut', 0.43670421838760376), ('spa', 0.43204137682914734), ('play', 0.4278169870376587), ('salt', 0.4245648682117462), ('cricket', 0.4188228249549866), ('crabbing', 0.4185841381549835), ('entertaining', 0.4180978238582611), ('billiard', 0.41757577657699585), ('bbq', 0.41273683309555054), ('chair', 0.41271644830703735), ('heated', 0.4026745557785034), ('covered', 0.4019371271133423), ('pond', 0.40034690499305725), ('bbqs', 0.39862024784088135), ('kayaking', 0.3981251120567322), ('cabana', 0.39757922291755676), ('sail', 0.3966248333454132)]\n",
      "stemmed model:\n",
      "[('poolspa', 0.6427659392356873), ('seater', 0.6022142171859741), ('gazebo', 0.5527269840240479), ('bubbl', 0.49489760398864746), ('billiard', 0.4842163026332855), ('below', 0.481838583946228), ('sauna', 0.46725893020629883), ('play', 0.451943576335907), ('chair', 0.44286659359931946), ('fish', 0.4417535364627838), ('outdoor', 0.4385075867176056), ('grass', 0.4338710308074951), ('bbq', 0.4274854362010956), ('cricket', 0.4220274090766907), ('spa', 0.41958045959472656), ('sail', 0.4179736375808716), ('poolsid', 0.4145281910896301), ('bali', 0.4113944172859192), ('shade', 0.4108344614505768), ('patio', 0.4072887897491455), ('pergola', 0.4061048626899719), ('salt', 0.4035225510597229), ('barbequ', 0.40047335624694824), ('shimmer', 0.39954519271850586), ('tropic', 0.39839211106300354), ('thatch', 0.3975907862186432), ('entertain', 0.3956438899040222), ('hut', 0.3908863365650177), ('therapeut', 0.39038950204849243), ('trampolin', 0.38745567202568054)]\n",
      "original model:\n",
      "[('poolbbqlounge', 0.6214900612831116), ('pools', 0.6081295609474182), ('poolspa', 0.6018884181976318), ('poolwhat', 0.5951940417289734), ('poolfantastic', 0.5686555504798889), ('seater', 0.561924934387207), ('poolwith', 0.5617420673370361), ('ecosystem', 0.5397904515266418), ('poolgranny', 0.5321182012557983), ('aquatechnics', 0.5290197730064392), ('gazebo', 0.520206868648529), ('shedbelow', 0.5033302307128906), ('below', 0.5004719495773315), ('chairs', 0.4977796673774719), ('picnicking', 0.4894522726535797), ('reticbelow', 0.4872349202632904), ('kayaking', 0.4869503080844879), ('poollovely', 0.4657053053379059), ('fishing', 0.45948362350463867), ('play', 0.44602519273757935), ('poolsituated', 0.4441317915916443), ('entertaining', 0.4408376216888428), ('poolmassive', 0.43787726759910583), ('outdoor', 0.4376266598701477), ('sauna', 0.43740785121917725), ('gymnasium', 0.43344905972480774), ('poolheated', 0.43334123492240906), ('surfing', 0.43277597427368164), ('cricket', 0.430194228887558), ('bubbling', 0.42753443121910095)]\n"
     ]
    }
   ],
   "source": [
    "keyword = 'pool'\n",
    "\n",
    "top_number = 30\n",
    "\n",
    "print('Words relating to:', keyword)\n",
    "print('lemmatized model:')\n",
    "positive = ['ac','airconditioning', 'aircond', 'acon', 'airconditioner', 'cooling' ]\n",
    "negative = ['vacuuming','vac','vacuum']\n",
    "print(lemma.most_similar(lemmmatizer.lemmatize(keyword), topn=top_number))\n",
    "print('stemmed model:')\n",
    "print(porter.most_similar(porterstemmer.stem(keyword), topn=top_number))\n",
    "print('original model:')\n",
    "print(nostem.most_similar(keyword, topn=top_number))"
   ]
  },
  {
   "cell_type": "code",
   "execution_count": 39,
   "metadata": {
    "collapsed": false
   },
   "outputs": [
    {
     "data": {
      "text/plain": [
       "<gensim.models.keyedvectors.KeyedVectors at 0x1d6e608a160>"
      ]
     },
     "execution_count": 39,
     "metadata": {},
     "output_type": "execute_result"
    }
   ],
   "source": []
  }
 ],
 "metadata": {
  "kernelspec": {
   "display_name": "Python 3",
   "language": "python",
   "name": "python3"
  },
  "language_info": {
   "codemirror_mode": {
    "name": "ipython",
    "version": 3
   },
   "file_extension": ".py",
   "mimetype": "text/x-python",
   "name": "python",
   "nbconvert_exporter": "python",
   "pygments_lexer": "ipython3",
   "version": "3.6.0"
  }
 },
 "nbformat": 4,
 "nbformat_minor": 2
}
