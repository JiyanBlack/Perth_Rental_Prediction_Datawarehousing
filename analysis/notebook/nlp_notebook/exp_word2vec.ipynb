{
 "cells": [
  {
   "cell_type": "code",
   "execution_count": 1,
   "metadata": {
    "collapsed": false
   },
   "outputs": [
    {
     "name": "stderr",
     "output_type": "stream",
     "text": [
      "C:\\ProgramData\\Anaconda3\\lib\\site-packages\\gensim\\utils.py:860: UserWarning: detected Windows; aliasing chunkize to chunkize_serial\n",
      "  warnings.warn(\"detected Windows; aliasing chunkize to chunkize_serial\")\n"
     ]
    }
   ],
   "source": [
    "import word2vec \n",
    "from nltk.stem import WordNetLemmatizer\n",
    "from nltk.stem.porter import PorterStemmer\n",
    "import os\n",
    "import gensim\n",
    "porterstemmer = PorterStemmer()\n",
    "lemmmatizer = WordNetLemmatizer()\n",
    "\n",
    "lemma = word2vec.read_model('description_lemmatized.word2vec')\n",
    "porter = word2vec.read_model('description_porterStem.word2vec')\n",
    "nostem = word2vec.read_model('description_nostem.word2vec')\n",
    "\n",
    "top_number = 30\n"
   ]
  },
  {
   "cell_type": "code",
   "execution_count": 4,
   "metadata": {
    "collapsed": false
   },
   "outputs": [
    {
     "name": "stdout",
     "output_type": "stream",
     "text": [
      "Words relating to: ac\n",
      "lemmatized model:\n",
      "stemmed model:\n",
      "[('aircon', 0.9759746789932251), ('aircondit', 0.9355559349060059), ('aircond', 0.8935593962669373), ('aircondition', 0.8919800519943237), ('acond', 0.8185493350028992), ('acon', 0.8128107786178589), ('vacuum', 0.706700325012207), ('evap', 0.6880021691322327), ('vac', 0.6852788925170898), ('acondit', 0.6669881343841553), ('air', 0.6556943655014038), ('valet', 0.6546136140823364), ('aircondion', 0.5887314081192017), ('vaccum', 0.583031177520752), ('evapor', 0.5515980124473572), ('refridger', 0.5254480242729187), ('con', 0.5138158798217773), ('insul', 0.5063073635101318), ('rc', 0.5054935812950134), ('aircondt', 0.5053683519363403), ('heatingcool', 0.4905349016189575), ('system', 0.4797556400299072), ('vacum', 0.47773250937461853), ('refriger', 0.4694408178329468), ('rev', 0.4685000777244568), ('·', 0.4656698703765869), ('heat', 0.4592319130897522), ('condit', 0.4544655978679657), ('alarm', 0.442045122385025), ('airconditioningh', 0.4274216890335083)]\n"
     ]
    }
   ],
   "source": [
    "keyword = porterstemmer.stem('ac')\n",
    "\n",
    "top_number = 30\n",
    "\n",
    "print('Words relating to:', keyword)\n",
    "print('lemmatized model:')\n",
    "# positive = ['ac','airconditioning', 'aircond', 'acon', 'airconditioner', 'cooling' ]\n",
    "# negative = ['vacuuming','vac','vacuum']\n",
    "# print(lemma.most_similar(lemmmatizer.lemmatize(keyword), topn=top_number))\n",
    "print('stemmed model:')\n",
    "print(porter.most_similar(keyword, topn=top_number))\n",
    "# print('original model:')\n",
    "# print(nostem.most_similar(keyword, topn=top_number))"
   ]
  },
  {
   "cell_type": "code",
   "execution_count": 39,
   "metadata": {
    "collapsed": false
   },
   "outputs": [
    {
     "data": {
      "text/plain": [
       "<gensim.models.keyedvectors.KeyedVectors at 0x1d6e608a160>"
      ]
     },
     "execution_count": 39,
     "metadata": {},
     "output_type": "execute_result"
    }
   ],
   "source": []
  }
 ],
 "metadata": {
  "kernelspec": {
   "display_name": "Python 3",
   "language": "python",
   "name": "python3"
  },
  "language_info": {
   "codemirror_mode": {
    "name": "ipython",
    "version": 3
   },
   "file_extension": ".py",
   "mimetype": "text/x-python",
   "name": "python",
   "nbconvert_exporter": "python",
   "pygments_lexer": "ipython3",
   "version": "3.6.0"
  }
 },
 "nbformat": 4,
 "nbformat_minor": 2
}
