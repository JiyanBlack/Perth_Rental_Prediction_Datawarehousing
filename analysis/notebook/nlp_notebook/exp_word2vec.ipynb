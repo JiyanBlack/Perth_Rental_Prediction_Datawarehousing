{
 "cells": [
  {
   "cell_type": "code",
   "execution_count": 44,
   "metadata": {
    "collapsed": false
   },
   "outputs": [],
   "source": [
    "import word2vec \n",
    "from nltk.stem import WordNetLemmatizer\n",
    "from nltk.stem.porter import PorterStemmer\n",
    "import os\n",
    "import gensim\n",
    "porterstemmer = PorterStemmer()\n",
    "lemmmatizer = WordNetLemmatizer()\n",
    "\n",
    "lemma = word2vec.read_model('description_lemmatized.word2vec')\n",
    "porter = word2vec.read_model('description_porterStem.word2vec')\n",
    "nostem = word2vec.read_model('description_nostem.word2vec')\n",
    "\n",
    "top_number = 30\n"
   ]
  },
  {
   "cell_type": "code",
   "execution_count": 91,
   "metadata": {
    "collapsed": false
   },
   "outputs": [
    {
     "name": "stdout",
     "output_type": "stream",
     "text": [
      "Words relating to: furnish\n",
      "lemmatized model:\n",
      "stemmed model:\n",
      "[('refurbish', 0.6110185980796814), ('selfcontain', 0.5987519025802612), ('outfit', 0.5927196145057678), ('renov', 0.5542071461677551), ('rewir', 0.5471765995025635), ('repaint', 0.5120163559913635), ('unfurnish', 0.5084818005561829), ('revamp', 0.49326932430267334), ('redecor', 0.4927240014076233), ('equip', 0.48915648460388184), ('modernis', 0.4618665874004364), ('customis', 0.46163755655288696), ('remodel', 0.4586195945739746), ('upgrad', 0.42693281173706055), ('resurfac', 0.4241151213645935), ('self', 0.41995781660079956), ('twobedroom', 0.416593462228775), ('lage', 0.4111906588077545), ('fit', 0.40507403016090393), ('turnkey', 0.40310853719711304), ('equipt', 0.39989036321640015), ('dcor', 0.3775731027126312), ('rejuven', 0.3631194531917572), ('contain', 0.35771459341049194), ('makeov', 0.3576505780220032), ('paint', 0.3513811528682709), ('refit', 0.3510790169239044), ('fenc', 0.3505956530570984), ('swish', 0.34341979026794434), ('fitout', 0.34240078926086426)]\n"
     ]
    }
   ],
   "source": [
    "keyword = porterstemmer.stem('furnished')\n",
    "\n",
    "top_number = 30\n",
    "\n",
    "print('Words relating to:', keyword)\n",
    "print('lemmatized model:')\n",
    "# positive = ['ac','airconditioning', 'aircond', 'acon', 'airconditioner', 'cooling' ]\n",
    "# negative = ['vacuuming','vac','vacuum']\n",
    "# print(lemma.most_similar(lemmmatizer.lemmatize(keyword), topn=top_number))\n",
    "print('stemmed model:')\n",
    "print(porter.most_similar(keyword, topn=top_number))\n",
    "# print('original model:')\n",
    "# print(nostem.most_similar(keyword, topn=top_number))"
   ]
  },
  {
   "cell_type": "code",
   "execution_count": 39,
   "metadata": {
    "collapsed": false
   },
   "outputs": [
    {
     "data": {
      "text/plain": [
       "<gensim.models.keyedvectors.KeyedVectors at 0x1d6e608a160>"
      ]
     },
     "execution_count": 39,
     "metadata": {},
     "output_type": "execute_result"
    }
   ],
   "source": []
  }
 ],
 "metadata": {
  "kernelspec": {
   "display_name": "Python 3",
   "language": "python",
   "name": "python3"
  },
  "language_info": {
   "codemirror_mode": {
    "name": "ipython",
    "version": 3
   },
   "file_extension": ".py",
   "mimetype": "text/x-python",
   "name": "python",
   "nbconvert_exporter": "python",
   "pygments_lexer": "ipython3",
   "version": "3.6.0"
  }
 },
 "nbformat": 4,
 "nbformat_minor": 2
}
