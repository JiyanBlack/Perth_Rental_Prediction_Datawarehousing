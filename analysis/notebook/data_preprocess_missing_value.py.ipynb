{
 "cells": [
  {
   "cell_type": "code",
   "execution_count": 1,
   "metadata": {
    "collapsed": true,
    "scrolled": false
   },
   "outputs": [],
   "source": [
    "import pandas as pd\n",
    "import matplotlib.pyplot as plt\n",
    "import seaborn as sns\n",
    "import numpy as np\n",
    "from scipy.stats import norm\n",
    "from sklearn.preprocessing import StandardScaler\n",
    "from scipy import stats\n",
    "import warnings\n",
    "from IPython.display import display\n",
    "warnings.filterwarnings('ignore')\n",
    "%matplotlib inline\n",
    "sns.set(rc={\"figure.figsize\": (12, 8)})"
   ]
  },
  {
   "cell_type": "code",
   "execution_count": 2,
   "metadata": {
    "collapsed": true,
    "scrolled": false
   },
   "outputs": [],
   "source": [
    "CSV_PATH = \"../../data/csv/\"\n",
    "DF_NAME = \"ksou_50095x19.csv\"\n",
    "df = pd.read_csv(CSV_PATH + DF_NAME)"
   ]
  },
  {
   "cell_type": "code",
   "execution_count": 3,
   "metadata": {
    "collapsed": false,
    "scrolled": false
   },
   "outputs": [
    {
     "name": "stdout",
     "output_type": "stream",
     "text": [
      "Index(['id', 'address', 'nearbySchoolNum', 'houseType', 'soldPrice', 'bedroom',\n",
      "       'bathroom', 'carspace', 'soldTimeYear', 'soldTimeMonth', 'landSize',\n",
      "       'buildingSize', 'buildYear', 'distanceToCBD', 'distanceToStation',\n",
      "       'pool', 'furnished', 'yard', 'ac'],\n",
      "      dtype='object')\n"
     ]
    }
   ],
   "source": [
    "print(df.columns)\n",
    "df.soldPrice = df.soldPrice.astype(int)"
   ]
  },
  {
   "cell_type": "code",
   "execution_count": 4,
   "metadata": {
    "collapsed": false,
    "scrolled": false
   },
   "outputs": [
    {
     "name": "stdout",
     "output_type": "stream",
     "text": [
      "count    5.009500e+04\n",
      "mean     5.362530e+05\n",
      "std      3.721165e+05\n",
      "min      5.100000e+04\n",
      "25%      3.550000e+05\n",
      "50%      4.590000e+05\n",
      "75%      6.150000e+05\n",
      "max      2.000000e+07\n",
      "Name: soldPrice, dtype: float64\n"
     ]
    }
   ],
   "source": [
    "print(df.soldPrice.describe())\n",
    "dim = df.shape"
   ]
  },
  {
   "cell_type": "markdown",
   "metadata": {
    "collapsed": true
   },
   "source": [
    "It seems like that the low range is normal and no need to remove outliars from the low range.\n",
    "But the high range outliars are pretty far away from the value and need to be removed."
   ]
  },
  {
   "cell_type": "markdown",
   "metadata": {},
   "source": [
    "The distribution features are:\n",
    "* Deviate from Normal Distribution\n",
    "* the positive skewness \n",
    "* high peakedness\n",
    "\n",
    "#### Missing data"
   ]
  },
  {
   "cell_type": "code",
   "execution_count": 5,
   "metadata": {
    "collapsed": false,
    "scrolled": false
   },
   "outputs": [
    {
     "data": {
      "text/html": [
       "<div>\n",
       "<table border=\"1\" class=\"dataframe\">\n",
       "  <thead>\n",
       "    <tr style=\"text-align: right;\">\n",
       "      <th></th>\n",
       "      <th>Total</th>\n",
       "      <th>Percent</th>\n",
       "    </tr>\n",
       "  </thead>\n",
       "  <tbody>\n",
       "    <tr>\n",
       "      <th>buildYear</th>\n",
       "      <td>26257</td>\n",
       "      <td>52.414413</td>\n",
       "    </tr>\n",
       "    <tr>\n",
       "      <th>buildingSize</th>\n",
       "      <td>16674</td>\n",
       "      <td>33.284759</td>\n",
       "    </tr>\n",
       "    <tr>\n",
       "      <th>carspace</th>\n",
       "      <td>4261</td>\n",
       "      <td>8.505839</td>\n",
       "    </tr>\n",
       "    <tr>\n",
       "      <th>houseType</th>\n",
       "      <td>3273</td>\n",
       "      <td>6.533586</td>\n",
       "    </tr>\n",
       "    <tr>\n",
       "      <th>bathroom</th>\n",
       "      <td>2619</td>\n",
       "      <td>5.228067</td>\n",
       "    </tr>\n",
       "    <tr>\n",
       "      <th>bedroom</th>\n",
       "      <td>2557</td>\n",
       "      <td>5.104302</td>\n",
       "    </tr>\n",
       "    <tr>\n",
       "      <th>landSize</th>\n",
       "      <td>1120</td>\n",
       "      <td>2.235752</td>\n",
       "    </tr>\n",
       "    <tr>\n",
       "      <th>soldTimeMonth</th>\n",
       "      <td>807</td>\n",
       "      <td>1.610939</td>\n",
       "    </tr>\n",
       "    <tr>\n",
       "      <th>soldTimeYear</th>\n",
       "      <td>807</td>\n",
       "      <td>1.610939</td>\n",
       "    </tr>\n",
       "    <tr>\n",
       "      <th>distanceToStation</th>\n",
       "      <td>203</td>\n",
       "      <td>0.405230</td>\n",
       "    </tr>\n",
       "    <tr>\n",
       "      <th>distanceToCBD</th>\n",
       "      <td>203</td>\n",
       "      <td>0.405230</td>\n",
       "    </tr>\n",
       "  </tbody>\n",
       "</table>\n",
       "</div>"
      ],
      "text/plain": [
       "                   Total    Percent\n",
       "buildYear          26257  52.414413\n",
       "buildingSize       16674  33.284759\n",
       "carspace            4261   8.505839\n",
       "houseType           3273   6.533586\n",
       "bathroom            2619   5.228067\n",
       "bedroom             2557   5.104302\n",
       "landSize            1120   2.235752\n",
       "soldTimeMonth        807   1.610939\n",
       "soldTimeYear         807   1.610939\n",
       "distanceToStation    203   0.405230\n",
       "distanceToCBD        203   0.405230"
      ]
     },
     "metadata": {},
     "output_type": "display_data"
    }
   ],
   "source": [
    "def print_missing(df):\n",
    "    total = df.isnull().sum().sort_values(ascending=False)\n",
    "    percent = (df.isnull().sum()/df.isnull().count() * 100).sort_values(ascending=False)\n",
    "    missing_data = pd.concat([total, percent], axis=1, keys=['Total', 'Percent'])\n",
    "    display(missing_data[missing_data['Percent']>0])\n",
    "print_missing(df)"
   ]
  },
  {
   "cell_type": "markdown",
   "metadata": {},
   "source": [
    "## Relationship between sale price and numerical features"
   ]
  },
  {
   "cell_type": "code",
   "execution_count": 6,
   "metadata": {
    "collapsed": true,
    "scrolled": false
   },
   "outputs": [],
   "source": [
    "def draw_numerical_scatter(colname, xlim=None):\n",
    "    df_filtered = df[df[colname]>0]\n",
    "    data = pd.concat([df_filtered.soldPrice, df_filtered[colname]], axis = 1)\n",
    "    data.plot.scatter(x = colname, y = 'soldPrice',xlim = xlim)"
   ]
  },
  {
   "cell_type": "markdown",
   "metadata": {
    "scrolled": false
   },
   "source": [
    "Firstly, several key missing values need to be addressed. \"houseType\", \"bathroom\" and \"bedroom\" are key features to the house price. Because we have large amount of data, removing these missing entries is fine."
   ]
  },
  {
   "cell_type": "code",
   "execution_count": 7,
   "metadata": {
    "collapsed": false,
    "scrolled": false
   },
   "outputs": [
    {
     "data": {
      "text/plain": [
       "(46747, 19)"
      ]
     },
     "metadata": {},
     "output_type": "display_data"
    },
    {
     "data": {
      "text/html": [
       "<div>\n",
       "<table border=\"1\" class=\"dataframe\">\n",
       "  <thead>\n",
       "    <tr style=\"text-align: right;\">\n",
       "      <th></th>\n",
       "      <th>Total</th>\n",
       "      <th>Percent</th>\n",
       "    </tr>\n",
       "  </thead>\n",
       "  <tbody>\n",
       "    <tr>\n",
       "      <th>buildYear</th>\n",
       "      <td>23588</td>\n",
       "      <td>50.458853</td>\n",
       "    </tr>\n",
       "    <tr>\n",
       "      <th>buildingSize</th>\n",
       "      <td>14498</td>\n",
       "      <td>31.013755</td>\n",
       "    </tr>\n",
       "    <tr>\n",
       "      <th>carspace</th>\n",
       "      <td>1523</td>\n",
       "      <td>3.257963</td>\n",
       "    </tr>\n",
       "    <tr>\n",
       "      <th>landSize</th>\n",
       "      <td>809</td>\n",
       "      <td>1.730592</td>\n",
       "    </tr>\n",
       "    <tr>\n",
       "      <th>soldTimeMonth</th>\n",
       "      <td>761</td>\n",
       "      <td>1.627912</td>\n",
       "    </tr>\n",
       "    <tr>\n",
       "      <th>soldTimeYear</th>\n",
       "      <td>761</td>\n",
       "      <td>1.627912</td>\n",
       "    </tr>\n",
       "    <tr>\n",
       "      <th>distanceToStation</th>\n",
       "      <td>152</td>\n",
       "      <td>0.325155</td>\n",
       "    </tr>\n",
       "    <tr>\n",
       "      <th>distanceToCBD</th>\n",
       "      <td>152</td>\n",
       "      <td>0.325155</td>\n",
       "    </tr>\n",
       "  </tbody>\n",
       "</table>\n",
       "</div>"
      ],
      "text/plain": [
       "                   Total    Percent\n",
       "buildYear          23588  50.458853\n",
       "buildingSize       14498  31.013755\n",
       "carspace            1523   3.257963\n",
       "landSize             809   1.730592\n",
       "soldTimeMonth        761   1.627912\n",
       "soldTimeYear         761   1.627912\n",
       "distanceToStation    152   0.325155\n",
       "distanceToCBD        152   0.325155"
      ]
     },
     "metadata": {},
     "output_type": "display_data"
    }
   ],
   "source": [
    "df_remove_missing = df[~pd.isnull(df.houseType)]\n",
    "df_remove_missing = df_remove_missing[~pd.isnull(df_remove_missing.bathroom)]\n",
    "df_remove_missing = df_remove_missing[~pd.isnull(df_remove_missing.bedroom)]\n",
    "\n",
    "display(df_remove_missing.shape)\n",
    "print_missing(df_remove_missing)"
   ]
  },
  {
   "cell_type": "markdown",
   "metadata": {},
   "source": [
    "It since there is only about very small fraction of data missing for landSize, soldTimeMonth, soldTimeYear, distanceToStation, distanceToCBD, we will move the missing entries for them."
   ]
  },
  {
   "cell_type": "code",
   "execution_count": 8,
   "metadata": {
    "collapsed": false,
    "scrolled": true
   },
   "outputs": [
    {
     "data": {
      "text/plain": [
       "(45074, 19)"
      ]
     },
     "metadata": {},
     "output_type": "display_data"
    },
    {
     "data": {
      "text/html": [
       "<div>\n",
       "<table border=\"1\" class=\"dataframe\">\n",
       "  <thead>\n",
       "    <tr style=\"text-align: right;\">\n",
       "      <th></th>\n",
       "      <th>Total</th>\n",
       "      <th>Percent</th>\n",
       "    </tr>\n",
       "  </thead>\n",
       "  <tbody>\n",
       "    <tr>\n",
       "      <th>buildYear</th>\n",
       "      <td>22285</td>\n",
       "      <td>49.440919</td>\n",
       "    </tr>\n",
       "    <tr>\n",
       "      <th>buildingSize</th>\n",
       "      <td>13465</td>\n",
       "      <td>29.873098</td>\n",
       "    </tr>\n",
       "    <tr>\n",
       "      <th>carspace</th>\n",
       "      <td>1378</td>\n",
       "      <td>3.057195</td>\n",
       "    </tr>\n",
       "  </tbody>\n",
       "</table>\n",
       "</div>"
      ],
      "text/plain": [
       "              Total    Percent\n",
       "buildYear     22285  49.440919\n",
       "buildingSize  13465  29.873098\n",
       "carspace       1378   3.057195"
      ]
     },
     "metadata": {},
     "output_type": "display_data"
    }
   ],
   "source": [
    "df_remove_missing = df_remove_missing[~pd.isnull(df_remove_missing.distanceToCBD)]\n",
    "df_remove_missing = df_remove_missing[~pd.isnull(df_remove_missing.distanceToStation)]\n",
    "df_remove_missing = df_remove_missing[~pd.isnull(df_remove_missing.landSize)]\n",
    "df_remove_missing = df_remove_missing[~pd.isnull(df_remove_missing.soldTimeMonth)]\n",
    "df_remove_missing = df_remove_missing[~pd.isnull(df_remove_missing.soldTimeYear)]\n",
    "display(df_remove_missing.shape)\n",
    "print_missing(df_remove_missing)"
   ]
  },
  {
   "cell_type": "markdown",
   "metadata": {},
   "source": [
    "For entries missing carspace feature, we fill it with 0 according to the meaning of the original webpage. In the webpage, if carspace column is empty, it is very likely that there is 0 carspace provided. "
   ]
  },
  {
   "cell_type": "code",
   "execution_count": 9,
   "metadata": {
    "collapsed": false,
    "scrolled": false
   },
   "outputs": [
    {
     "data": {
      "text/html": [
       "<div>\n",
       "<table border=\"1\" class=\"dataframe\">\n",
       "  <thead>\n",
       "    <tr style=\"text-align: right;\">\n",
       "      <th></th>\n",
       "      <th>Total</th>\n",
       "      <th>Percent</th>\n",
       "    </tr>\n",
       "  </thead>\n",
       "  <tbody>\n",
       "    <tr>\n",
       "      <th>buildYear</th>\n",
       "      <td>22285</td>\n",
       "      <td>49.440919</td>\n",
       "    </tr>\n",
       "    <tr>\n",
       "      <th>buildingSize</th>\n",
       "      <td>13465</td>\n",
       "      <td>29.873098</td>\n",
       "    </tr>\n",
       "  </tbody>\n",
       "</table>\n",
       "</div>"
      ],
      "text/plain": [
       "              Total    Percent\n",
       "buildYear     22285  49.440919\n",
       "buildingSize  13465  29.873098"
      ]
     },
     "metadata": {},
     "output_type": "display_data"
    }
   ],
   "source": [
    "df_remove_missing.set_value(index = pd.isnull(df_remove_missing.carspace), col = 'carspace', value = 0)\n",
    "print_missing(df_remove_missing)"
   ]
  },
  {
   "cell_type": "code",
   "execution_count": 10,
   "metadata": {
    "collapsed": false
   },
   "outputs": [
    {
     "data": {
      "text/plain": [
       "(45074, 19)"
      ]
     },
     "execution_count": 10,
     "metadata": {},
     "output_type": "execute_result"
    }
   ],
   "source": [
    "df = df_remove_missing\n",
    "df.shape"
   ]
  },
  {
   "cell_type": "code",
   "execution_count": 11,
   "metadata": {
    "collapsed": false
   },
   "outputs": [],
   "source": [
    "df.to_csv(CSV_PATH + 'ksou_45074x19.csv', index=False)"
   ]
  }
 ],
 "metadata": {
  "kernelspec": {
   "display_name": "Python 3",
   "language": "python",
   "name": "python3"
  },
  "language_info": {
   "codemirror_mode": {
    "name": "ipython",
    "version": 3
   },
   "file_extension": ".py",
   "mimetype": "text/x-python",
   "name": "python",
   "nbconvert_exporter": "python",
   "pygments_lexer": "ipython3",
   "version": "3.6.0"
  }
 },
 "nbformat": 4,
 "nbformat_minor": 2
}
