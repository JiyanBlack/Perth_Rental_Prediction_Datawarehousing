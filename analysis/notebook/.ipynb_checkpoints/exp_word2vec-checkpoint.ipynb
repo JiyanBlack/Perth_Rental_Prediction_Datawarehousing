{
 "cells": [
  {
   "cell_type": "code",
   "execution_count": 44,
   "metadata": {
    "collapsed": false
   },
   "outputs": [],
   "source": [
    "import word2vec \n",
    "from nltk.stem import WordNetLemmatizer\n",
    "from nltk.stem.porter import PorterStemmer\n",
    "import os\n",
    "import gensim\n",
    "porterstemmer = PorterStemmer()\n",
    "lemmmatizer = WordNetLemmatizer()\n",
    "\n",
    "lemma = word2vec.read_model('description_lemmatized.word2vec')\n",
    "porter = word2vec.read_model('description_porterStem.word2vec')\n",
    "nostem = word2vec.read_model('description_nostem.word2vec')\n"
   ]
  },
  {
   "cell_type": "code",
   "execution_count": 75,
   "metadata": {
    "collapsed": false
   },
   "outputs": [
    {
     "name": "stdout",
     "output_type": "stream",
     "text": [
      "Words relating to: yard\n",
      "lemmatized model:\n",
      "[('garden', 0.6755955219268799), ('courtyard', 0.6528605222702026), ('backyard', 0.6316196918487549), ('lawn', 0.5806288719177246), ('grassed', 0.5343349575996399), ('patio', 0.5071576237678528), ('lawned', 0.5068835020065308), ('pergola', 0.49844804406166077), ('veranda', 0.48930469155311584), ('verandah', 0.47034746408462524), ('grass', 0.46223366260528564), ('paved', 0.44938308000564575), ('splash', 0.4420512318611145), ('paddock', 0.43592342734336853), ('laneway', 0.4248911738395691), ('patch', 0.41842153668403625), ('deck', 0.4172944724559784), ('porch', 0.4146155118942261), ('outdoors', 0.4098253846168518), ('kick', 0.4089982807636261), ('alfresco', 0.40736567974090576), ('gazebo', 0.406366765499115), ('sit', 0.402345210313797), ('enclosure', 0.39775827527046204), ('tennis', 0.39361587166786194), ('balcony', 0.3877667784690857), ('workshop', 0.3871736228466034), ('flowerbed', 0.3865090012550354), ('sunroom', 0.38503649830818176), ('row', 0.3791871964931488)]\n",
      "stemmed model:\n",
      "[('garden', 0.6774813532829285), ('courtyard', 0.6305795311927795), ('backyard', 0.614873468875885), ('lawn', 0.5622141361236572), ('splash', 0.4998202621936798), ('pergola', 0.4997829496860504), ('grass', 0.4971936345100403), ('patio', 0.4841436445713043), ('veranda', 0.4744163155555725), ('laneway', 0.464996337890625), ('verandah', 0.43960851430892944), ('kick', 0.4372219443321228), ('tenni', 0.4126030206680298), ('porch', 0.3968588411808014), ('pave', 0.38905367255210876), ('alfrescopatio', 0.3866376280784607), ('sunroom', 0.3815734088420868), ('gazebo', 0.37753552198410034), ('patch', 0.37742486596107483), ('alfresco', 0.37499380111694336), ('turf', 0.37476956844329834), ('row', 0.37307319045066833), ('paddock', 0.37303096055984497), ('synthet', 0.37251991033554077), ('fenc', 0.36107173562049866), ('lane', 0.35566070675849915), ('pet', 0.3550589680671692), ('workshop', 0.3519376814365387), ('artifici', 0.35086578130722046), ('enclosur', 0.35060882568359375)]\n",
      "original model:\n",
      "[('garden', 0.7512787580490112), ('yards', 0.7106260061264038), ('backyard', 0.6640461087226868), ('courtyard', 0.6598348617553711), ('lawn', 0.6252771615982056), ('yardkiddie', 0.5989519953727722), ('courtyards', 0.5790220499038696), ('marketyou', 0.5384031534194946), ('insideout', 0.5367221832275391), ('conservatorysunroom', 0.5268548727035522), ('grassed', 0.5255357623100281), ('gardens', 0.5212541818618774), ('environment…', 0.5013774633407593), ('gardensside', 0.5003955364227295), ('resealedglossed', 0.5000858306884766), ('unexpectedly', 0.4997003376483917), ('pergola', 0.4960602819919586), ('veranda', 0.4939998388290405), ('gardenorchard', 0.4890224039554596), ('deck', 0.48333534598350525), ('lawned', 0.48163560032844543), ('patio', 0.47829997539520264), ('paddock', 0.47803792357444763), ('patch', 0.47656455636024475), ('gardenyard', 0.4581441581249237), ('grass', 0.45791488885879517), ('verandah', 0.45282918214797974), ('deckentertaining', 0.452473908662796), ('characin', 0.4440533518791199), ('laneway', 0.44193652272224426)]\n"
     ]
    }
   ],
   "source": [
    "keyword = 'pool'\n",
    "\n",
    "top_number = 30\n",
    "\n",
    "print('Words relating to:', keyword)\n",
    "print('lemmatized model:')\n",
    "positive = ['ac','airconditioning', 'aircond', 'acon', 'airconditioner', 'cooling' ]\n",
    "negative = ['vacuuming','vac','vacuum']\n",
    "print(lemma.most_similar(lemmmatizer.lemmatize(keyword), topn=top_number))\n",
    "print('stemmed model:')\n",
    "print(porter.most_similar(porterstemmer.stem(keyword), topn=top_number))\n",
    "print('original model:')\n",
    "print(nostem.most_similar(keyword, topn=top_number))"
   ]
  },
  {
   "cell_type": "code",
   "execution_count": 39,
   "metadata": {
    "collapsed": false
   },
   "outputs": [
    {
     "data": {
      "text/plain": [
       "<gensim.models.keyedvectors.KeyedVectors at 0x1d6e608a160>"
      ]
     },
     "execution_count": 39,
     "metadata": {},
     "output_type": "execute_result"
    }
   ],
   "source": []
  }
 ],
 "metadata": {
  "kernelspec": {
   "display_name": "Python 3",
   "language": "python",
   "name": "python3"
  },
  "language_info": {
   "codemirror_mode": {
    "name": "ipython",
    "version": 3
   },
   "file_extension": ".py",
   "mimetype": "text/x-python",
   "name": "python",
   "nbconvert_exporter": "python",
   "pygments_lexer": "ipython3",
   "version": "3.6.0"
  }
 },
 "nbformat": 4,
 "nbformat_minor": 2
}
